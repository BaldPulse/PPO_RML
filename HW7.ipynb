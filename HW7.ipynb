{
 "cells": [
  {
   "cell_type": "markdown",
   "metadata": {},
   "source": [
    "## GAE \n",
    "1. To prove this, we collect all $r_i$'s and and all $v_{\\omega}(s_i)$'s\n",
    "$$\n",
    "\\begin{split}\n",
    "(1-\\lambda)\\sum_{h=0}^{\\inf}\\lambda^h\\delta_{t,h} &= (1-\\lambda)\\sum_{h=0}^{\\inf}\\lambda^h(\\sum_{i=t}^{t+h}\\gamma^{i-t}\\cdot r_i + \\gamma^{h+1}\\cdot v_\\omega(s_{t+h+1}) - v_{\\omega}(s_t))\\\\\n",
    "& = (1-\\lambda)\\sum_{h=0}^{\\inf}(\\sum_{i=t}^{t+h}\\lambda^h\\gamma^{i-t}\\cdot r_i) + (1-\\lambda)\\sum_{h=0}^{\\inf}(\\gamma^{h+1}\\cdot v_\\omega(s_{t+h+1}) - v_{\\omega}(s_t))\\\\\n",
    "& = (1-\\lambda)(\\gamma^0\\sum_{i=0}^{\\inf}\\lambda^i r_{t} + \\gamma^{1}\\sum_{i=1}^{\\inf}\\lambda^i r_{t+1} + \\gamma^{2}\\sum_{i=2}^{\\inf}\\lambda^i r_{t+2} + \\cdots + \\gamma^{h}\\sum_{i=h}^{\\inf}\\lambda^i r_{t+h})+ \\sum_{h=0}^{\\inf}(1-\\lambda)\\lambda^h\\gamma^{h+1}\\cdot v_\\omega(s_{t+h+1}) - v_{\\omega}(s_t)\\\\\n",
    "& = (1-\\lambda)\\sum_{h=0}^{\\inf}\\frac{(\\gamma\\lambda)^h}{1-\\lambda}r_t^{h} + \\sum_{h=0}^{\\inf}(\\lambda^h-\\lambda^{h+1})\\gamma^{h+1}\\cdot v_\\omega(s_{t+h+1})- v_{\\omega}(s_t)\\\\\n",
    "& = (1-\\lambda)\\sum_{h=0}^{\\inf}\\frac{(\\gamma\\lambda)^h}{1-\\lambda}r_t^{h} + \\sum_{h=0}^{\\inf}\\lambda^h\\gamma^{h}\\cdot (\\gamma v_\\omega(s_{t+h+1}) - v_\\omega(s_{t+h}))\\\\\n",
    "& = \\sum_{h=0}^{\\inf}(\\gamma\\lambda)^h\\delta_{t+h,0}\n",
    "\\end{split}\n",
    "$$\n",
    "2. The role of $\\lambda$ is the weight given to each advantage estimator of the $Q$ function. In this case, the longer one has to expand, the less weight is given to the advantage estimator. The role of $\\gamma$ is to discount the reward at further timestep as they are less certain."
   ]
  },
  {
   "cell_type": "markdown",
   "metadata": {},
   "source": [
    "# PPO"
   ]
  },
  {
   "cell_type": "markdown",
   "metadata": {},
   "source": [
    "1. \n",
    "* The actor acts according to a policy network and interacts with the environment, the critic observes the interactions and evaluates the rewards (critizes the actor's actions). The `step` method basically lets the actor interact and the critic evaluate, returning the state action tuples and the value by the critic.\n",
    "* The GaussianActor returns a probability density function parameterized by the action space while the CategoricalActor returns a probability distribution function parameterized by the set of discrete actions. The PDF for continuous action is a guassian distribution with a mean and a variance, of which the mean is the output of the network; the PDF for discrete actions is a categorical distribution with a weight for each action, which are the outputs of the network.\n",
    "* The std determines how randon the actor acts. We can use a larger std to encourage exploration and a smaller std to encourage exploitation. It is a hyperparameter in our model.\n",
    "* GAE-Lambda essentially determines our effective rollout length, and thus determines our bias-variance trade-off. If we have large lambda, then we have smaller bias but larger variance and vice versa. The lambda is absored into the discount via the trick in the previous section.\n",
    "* The last step of the trajectory is either the value returned by going another step if the trajectory is cutoff or 0 if the trajectory is complete\n",
    "* "
   ]
  },
  {
   "cell_type": "code",
   "execution_count": 32,
   "metadata": {},
   "outputs": [],
   "source": [
    "import numpy as np\n",
    "import math\n",
    "import matplotlib.pyplot as plt"
   ]
  },
  {
   "cell_type": "code",
   "execution_count": 66,
   "metadata": {},
   "outputs": [],
   "source": [
    "w = -1\n",
    "rmap = np.array([   [w,w,w,w,w,w,w,w,w,w,w,w,w,w,w],\n",
    "                    [w,1,1,1,w,w,1,1,1,w,w,1,1,1,w],\n",
    "                    [w,1,w,w,w,w,1,w,w,w,w,1,w,w,w],\n",
    "                    [w,1,w,w,w,w,1,1,1,w,w,1,1,1,w],\n",
    "                    [w,1,w,w,w,w,w,w,1,w,w,1,w,w,w],\n",
    "                    [w,1,1,1,w,w,1,1,1,w,w,1,1,1,w],\n",
    "                    [w,1,1,1,w,1,1,1,w,1,w,1,1,1,w],\n",
    "                    [w,w,w,1,w,1,w,1,w,1,w,1,w,1,w],\n",
    "                    [w,1,1,1,w,1,1,1,w,1,w,1,w,1,w],\n",
    "                    [w,1,w,w,w,w,w,1,w,1,w,1,w,1,w],\n",
    "                    [w,1,1,1,1,1,1,1,1,1,1,1,1,1,w],\n",
    "                    [w,w,w,w,w,w,w,w,w,w,w,w,w,w,w]])"
   ]
  },
  {
   "cell_type": "code",
   "execution_count": 67,
   "metadata": {},
   "outputs": [],
   "source": [
    "traveled = np.zeros_like(rmap)\n",
    "traveled[5,7] = 1\n",
    "traveled[6,7] = 1\n",
    "l = []\n",
    "r = np.zeros_like(rmap)\n",
    "r_dir = np.zeros((rmap.shape[0], rmap.shape[1],2))\n",
    "r[5,7] = 100\n",
    "r[6,7] = 100\n",
    "l.append((5,7))\n",
    "l.append((6,7))\n",
    "while len(l)>0:\n",
    "    curx, cury = l.pop(0)\n",
    "    for (x,y) in [(curx-1, cury), (curx+1, cury), (curx, cury-1), (curx, cury+1)]:\n",
    "        if x< 0 or x > 11:\n",
    "            continue\n",
    "        if y<0 or y>14:\n",
    "            continue\n",
    "        if traveled[x,y] == 1:\n",
    "            continue\n",
    "        if rmap[x,y] < 0:\n",
    "            r[x,y] = -10\n",
    "        else:\n",
    "            traveled[x,y] = 1\n",
    "            l.append((x,y))\n",
    "            curr = r[curx, cury]\n",
    "            rew = curr - 3\n",
    "            r[x,y] = rew\n",
    "            r_dir[x,y,:] = [x-curx, y-cury]\n",
    "r += (r==0) * -10\n",
    "    \n"
   ]
  },
  {
   "cell_type": "code",
   "execution_count": 68,
   "metadata": {},
   "outputs": [
    {
     "data": {
      "text/plain": [
       "<matplotlib.image.AxesImage at 0x7f4769d330d0>"
      ]
     },
     "execution_count": 68,
     "metadata": {},
     "output_type": "execute_result"
    },
    {
     "data": {
      "image/png": "[encoded data removed]",
      "text/plain": [
       "<Figure size 432x288 with 1 Axes>"
      ]
     },
     "metadata": {
      "needs_background": "light"
     },
     "output_type": "display_data"
    }
   ],
   "source": [
    "plt.imshow(r, cmap='hot', interpolation='nearest')"
   ]
  },
  {
   "cell_type": "code",
   "execution_count": 69,
   "metadata": {},
   "outputs": [],
   "source": [
    "cdict = dict()\n",
    "cdict[(-1,0)] = (255,0,0)\n",
    "cdict[(1,0)] = (0, 255,0)\n",
    "cdict[(0,-1)] = (0,0,255)\n",
    "cdict[(0,1)] = (128,128,0)\n",
    "cdict[(0,0)] = (0,0,0)\n"
   ]
  },
  {
   "cell_type": "code",
   "execution_count": 70,
   "metadata": {},
   "outputs": [],
   "source": [
    "c_dir = np.zeros((r_dir.shape[0], r_dir.shape[1], 3))\n",
    "for i in range(r_dir.shape[0]):\n",
    "    for j in range(r_dir.shape[1]):\n",
    "        c_dir[i,j,:] = cdict[(r_dir[i,j,0], r_dir[i,j,1])]\n",
    "c_dir[5,7] = [255,255,255]\n",
    "c_dir[6,7] = [255,255,255]\n"
   ]
  },
  {
   "cell_type": "code",
   "execution_count": 71,
   "metadata": {},
   "outputs": [
    {
     "name": "stderr",
     "output_type": "stream",
     "text": [
      "Clipping input data to the valid range for imshow with RGB data ([0..1] for floats or [0..255] for integers).\n"
     ]
    },
    {
     "data": {
      "text/plain": [
       "<matplotlib.image.AxesImage at 0x7f4769da7910>"
      ]
     },
     "execution_count": 71,
     "metadata": {},
     "output_type": "execute_result"
    },
    {
     "data": {
      "image/png": "[encoded data removed]",
      "text/plain": [
       "<Figure size 432x288 with 1 Axes>"
      ]
     },
     "metadata": {
      "needs_background": "light"
     },
     "output_type": "display_data"
    }
   ],
   "source": [
    "plt.imshow(c_dir, interpolation='nearest')"
   ]
  },
  {
   "cell_type": "code",
   "execution_count": 72,
   "metadata": {},
   "outputs": [
    {
     "data": {
      "text/plain": [
       "array([[[ 0.,  0.],\n",
       "        [ 0.,  0.],\n",
       "        [ 0.,  0.],\n",
       "        [ 0.,  0.],\n",
       "        [ 0.,  0.],\n",
       "        [ 0.,  0.],\n",
       "        [ 0.,  0.],\n",
       "        [ 0.,  0.],\n",
       "        [ 0.,  0.],\n",
       "        [ 0.,  0.],\n",
       "        [ 0.,  0.],\n",
       "        [ 0.,  0.],\n",
       "        [ 0.,  0.],\n",
       "        [ 0.,  0.],\n",
       "        [ 0.,  0.]],\n",
       "\n",
       "       [[ 0.,  0.],\n",
       "        [-1.,  0.],\n",
       "        [ 0.,  1.],\n",
       "        [ 0.,  1.],\n",
       "        [ 0.,  0.],\n",
       "        [ 0.,  0.],\n",
       "        [-1.,  0.],\n",
       "        [ 0.,  1.],\n",
       "        [ 0.,  1.],\n",
       "        [ 0.,  0.],\n",
       "        [ 0.,  0.],\n",
       "        [-1.,  0.],\n",
       "        [ 0.,  1.],\n",
       "        [ 0.,  1.],\n",
       "        [ 0.,  0.]],\n",
       "\n",
       "       [[ 0.,  0.],\n",
       "        [-1.,  0.],\n",
       "        [ 0.,  0.],\n",
       "        [ 0.,  0.],\n",
       "        [ 0.,  0.],\n",
       "        [ 0.,  0.],\n",
       "        [-1.,  0.],\n",
       "        [ 0.,  0.],\n",
       "        [ 0.,  0.],\n",
       "        [ 0.,  0.],\n",
       "        [ 0.,  0.],\n",
       "        [-1.,  0.],\n",
       "        [ 0.,  0.],\n",
       "        [ 0.,  0.],\n",
       "        [ 0.,  0.]],\n",
       "\n",
       "       [[ 0.,  0.],\n",
       "        [-1.,  0.],\n",
       "        [ 0.,  0.],\n",
       "        [ 0.,  0.],\n",
       "        [ 0.,  0.],\n",
       "        [ 0.,  0.],\n",
       "        [ 0., -1.],\n",
       "        [ 0., -1.],\n",
       "        [-1.,  0.],\n",
       "        [ 0.,  0.],\n",
       "        [ 0.,  0.],\n",
       "        [-1.,  0.],\n",
       "        [ 0.,  1.],\n",
       "        [ 0.,  1.],\n",
       "        [ 0.,  0.]],\n",
       "\n",
       "       [[ 0.,  0.],\n",
       "        [-1.,  0.],\n",
       "        [ 0.,  0.],\n",
       "        [ 0.,  0.],\n",
       "        [ 0.,  0.],\n",
       "        [ 0.,  0.],\n",
       "        [ 0.,  0.],\n",
       "        [ 0.,  0.],\n",
       "        [-1.,  0.],\n",
       "        [ 0.,  0.],\n",
       "        [ 0.,  0.],\n",
       "        [-1.,  0.],\n",
       "        [ 0.,  0.],\n",
       "        [ 0.,  0.],\n",
       "        [ 0.,  0.]],\n",
       "\n",
       "       [[ 0.,  0.],\n",
       "        [ 0., -1.],\n",
       "        [ 0., -1.],\n",
       "        [-1.,  0.],\n",
       "        [ 0.,  0.],\n",
       "        [ 0.,  0.],\n",
       "        [ 0., -1.],\n",
       "        [ 0.,  0.],\n",
       "        [ 0.,  1.],\n",
       "        [ 0.,  0.],\n",
       "        [ 0.,  0.],\n",
       "        [-1.,  0.],\n",
       "        [ 0.,  1.],\n",
       "        [ 0.,  1.],\n",
       "        [ 0.,  0.]],\n",
       "\n",
       "       [[ 0.,  0.],\n",
       "        [ 0., -1.],\n",
       "        [ 0., -1.],\n",
       "        [-1.,  0.],\n",
       "        [ 0.,  0.],\n",
       "        [ 0., -1.],\n",
       "        [ 0., -1.],\n",
       "        [ 0.,  0.],\n",
       "        [ 0.,  0.],\n",
       "        [-1.,  0.],\n",
       "        [ 0.,  0.],\n",
       "        [-1.,  0.],\n",
       "        [ 0.,  1.],\n",
       "        [ 0.,  1.],\n",
       "        [ 0.,  0.]],\n",
       "\n",
       "       [[ 0.,  0.],\n",
       "        [ 0.,  0.],\n",
       "        [ 0.,  0.],\n",
       "        [-1.,  0.],\n",
       "        [ 0.,  0.],\n",
       "        [ 1.,  0.],\n",
       "        [ 0.,  0.],\n",
       "        [ 1.,  0.],\n",
       "        [ 0.,  0.],\n",
       "        [-1.,  0.],\n",
       "        [ 0.,  0.],\n",
       "        [-1.,  0.],\n",
       "        [ 0.,  0.],\n",
       "        [-1.,  0.],\n",
       "        [ 0.,  0.]],\n",
       "\n",
       "       [[ 0.,  0.],\n",
       "        [-1.,  0.],\n",
       "        [ 0.,  1.],\n",
       "        [ 0.,  1.],\n",
       "        [ 0.,  0.],\n",
       "        [ 0., -1.],\n",
       "        [ 0., -1.],\n",
       "        [ 1.,  0.],\n",
       "        [ 0.,  0.],\n",
       "        [-1.,  0.],\n",
       "        [ 0.,  0.],\n",
       "        [-1.,  0.],\n",
       "        [ 0.,  0.],\n",
       "        [-1.,  0.],\n",
       "        [ 0.,  0.]],\n",
       "\n",
       "       [[ 0.,  0.],\n",
       "        [-1.,  0.],\n",
       "        [ 0.,  0.],\n",
       "        [ 0.,  0.],\n",
       "        [ 0.,  0.],\n",
       "        [ 0.,  0.],\n",
       "        [ 0.,  0.],\n",
       "        [ 1.,  0.],\n",
       "        [ 0.,  0.],\n",
       "        [-1.,  0.],\n",
       "        [ 0.,  0.],\n",
       "        [-1.,  0.],\n",
       "        [ 0.,  0.],\n",
       "        [-1.,  0.],\n",
       "        [ 0.,  0.]],\n",
       "\n",
       "       [[ 0.,  0.],\n",
       "        [ 0., -1.],\n",
       "        [ 0., -1.],\n",
       "        [ 0., -1.],\n",
       "        [ 0., -1.],\n",
       "        [ 0., -1.],\n",
       "        [ 0., -1.],\n",
       "        [ 1.,  0.],\n",
       "        [ 0.,  1.],\n",
       "        [ 0.,  1.],\n",
       "        [ 0.,  1.],\n",
       "        [ 0.,  1.],\n",
       "        [ 0.,  1.],\n",
       "        [ 0.,  1.],\n",
       "        [ 0.,  0.]],\n",
       "\n",
       "       [[ 0.,  0.],\n",
       "        [ 0.,  0.],\n",
       "        [ 0.,  0.],\n",
       "        [ 0.,  0.],\n",
       "        [ 0.,  0.],\n",
       "        [ 0.,  0.],\n",
       "        [ 0.,  0.],\n",
       "        [ 0.,  0.],\n",
       "        [ 0.,  0.],\n",
       "        [ 0.,  0.],\n",
       "        [ 0.,  0.],\n",
       "        [ 0.,  0.],\n",
       "        [ 0.,  0.],\n",
       "        [ 0.,  0.],\n",
       "        [ 0.,  0.]]])"
      ]
     },
     "execution_count": 72,
     "metadata": {},
     "output_type": "execute_result"
    }
   ],
   "source": [
    "r_dir"
   ]
  }
 ],
 "metadata": {
  "interpreter": {
   "hash": "916dbcbb3f70747c44a77c7bcd40155683ae19c65e1c03b4aa3499c5328201f1"
  },
  "kernelspec": {
   "display_name": "Python 3.10.4 64-bit",
   "language": "python",
   "name": "python3"
  },
  "language_info": {
   "codemirror_mode": {
    "name": "ipython",
    "version": 3
   },
   "file_extension": ".py",
   "mimetype": "text/x-python",
   "name": "python",
   "nbconvert_exporter": "python",
   "pygments_lexer": "ipython3",
   "version": "3.10.4"
  },
  "orig_nbformat": 4
 },
 "nbformat": 4,
 "nbformat_minor": 2
}
